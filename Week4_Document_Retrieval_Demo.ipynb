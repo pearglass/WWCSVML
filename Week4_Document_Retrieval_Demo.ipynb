{
 "cells": [
  {
   "cell_type": "markdown",
   "metadata": {},
   "source": [
    "## Load pandas"
   ]
  },
  {
   "cell_type": "code",
   "execution_count": 1,
   "metadata": {
    "collapsed": true
   },
   "outputs": [],
   "source": [
    "import pandas as pd"
   ]
  },
  {
   "cell_type": "markdown",
   "metadata": {},
   "source": [
    "## Load some text data - from wikipedia, pages on people"
   ]
  },
  {
   "cell_type": "code",
   "execution_count": 2,
   "metadata": {
    "collapsed": false
   },
   "outputs": [],
   "source": [
    "people = pd.read_csv('people_wiki.csv')"
   ]
  },
  {
   "cell_type": "code",
   "execution_count": 3,
   "metadata": {
    "collapsed": false
   },
   "outputs": [
    {
     "data": {
      "text/html": [
       "<div>\n",
       "<table border=\"1\" class=\"dataframe\">\n",
       "  <thead>\n",
       "    <tr style=\"text-align: right;\">\n",
       "      <th></th>\n",
       "      <th>URI</th>\n",
       "      <th>name</th>\n",
       "      <th>text</th>\n",
       "    </tr>\n",
       "  </thead>\n",
       "  <tbody>\n",
       "    <tr>\n",
       "      <th>0</th>\n",
       "      <td>&lt;http://dbpedia.org/resource/Digby_Morrell&gt;</td>\n",
       "      <td>Digby Morrell</td>\n",
       "      <td>digby morrell born 10 october 1979 is a former...</td>\n",
       "    </tr>\n",
       "    <tr>\n",
       "      <th>1</th>\n",
       "      <td>&lt;http://dbpedia.org/resource/Alfred_J._Lewy&gt;</td>\n",
       "      <td>Alfred J. Lewy</td>\n",
       "      <td>alfred j lewy aka sandy lewy graduated from un...</td>\n",
       "    </tr>\n",
       "    <tr>\n",
       "      <th>2</th>\n",
       "      <td>&lt;http://dbpedia.org/resource/Harpdog_Brown&gt;</td>\n",
       "      <td>Harpdog Brown</td>\n",
       "      <td>harpdog brown is a singer and harmonica player...</td>\n",
       "    </tr>\n",
       "    <tr>\n",
       "      <th>3</th>\n",
       "      <td>&lt;http://dbpedia.org/resource/Franz_Rottensteiner&gt;</td>\n",
       "      <td>Franz Rottensteiner</td>\n",
       "      <td>franz rottensteiner born in waidmannsfeld lowe...</td>\n",
       "    </tr>\n",
       "    <tr>\n",
       "      <th>4</th>\n",
       "      <td>&lt;http://dbpedia.org/resource/G-Enka&gt;</td>\n",
       "      <td>G-Enka</td>\n",
       "      <td>henry krvits born 30 december 1974 in tallinn ...</td>\n",
       "    </tr>\n",
       "  </tbody>\n",
       "</table>\n",
       "</div>"
      ],
      "text/plain": [
       "                                                 URI                 name  \\\n",
       "0        <http://dbpedia.org/resource/Digby_Morrell>        Digby Morrell   \n",
       "1       <http://dbpedia.org/resource/Alfred_J._Lewy>       Alfred J. Lewy   \n",
       "2        <http://dbpedia.org/resource/Harpdog_Brown>        Harpdog Brown   \n",
       "3  <http://dbpedia.org/resource/Franz_Rottensteiner>  Franz Rottensteiner   \n",
       "4               <http://dbpedia.org/resource/G-Enka>               G-Enka   \n",
       "\n",
       "                                                text  \n",
       "0  digby morrell born 10 october 1979 is a former...  \n",
       "1  alfred j lewy aka sandy lewy graduated from un...  \n",
       "2  harpdog brown is a singer and harmonica player...  \n",
       "3  franz rottensteiner born in waidmannsfeld lowe...  \n",
       "4  henry krvits born 30 december 1974 in tallinn ...  "
      ]
     },
     "execution_count": 3,
     "metadata": {},
     "output_type": "execute_result"
    }
   ],
   "source": [
    "people.head()"
   ]
  },
  {
   "cell_type": "code",
   "execution_count": 4,
   "metadata": {
    "collapsed": false
   },
   "outputs": [
    {
     "data": {
      "text/plain": [
       "59071"
      ]
     },
     "execution_count": 4,
     "metadata": {},
     "output_type": "execute_result"
    }
   ],
   "source": [
    "len(people)"
   ]
  },
  {
   "cell_type": "markdown",
   "metadata": {},
   "source": [
    "## Explore the dataset and checkout the text it contains"
   ]
  },
  {
   "cell_type": "markdown",
   "metadata": {},
   "source": [
    "# Exploring the entry for president Obama"
   ]
  },
  {
   "cell_type": "code",
   "execution_count": 5,
   "metadata": {
    "collapsed": true
   },
   "outputs": [],
   "source": [
    "obama = people[people['name'] == 'Barack Obama']"
   ]
  },
  {
   "cell_type": "code",
   "execution_count": 6,
   "metadata": {
    "collapsed": false
   },
   "outputs": [
    {
     "data": {
      "text/html": [
       "<div>\n",
       "<table border=\"1\" class=\"dataframe\">\n",
       "  <thead>\n",
       "    <tr style=\"text-align: right;\">\n",
       "      <th></th>\n",
       "      <th>URI</th>\n",
       "      <th>name</th>\n",
       "      <th>text</th>\n",
       "    </tr>\n",
       "  </thead>\n",
       "  <tbody>\n",
       "    <tr>\n",
       "      <th>35817</th>\n",
       "      <td>&lt;http://dbpedia.org/resource/Barack_Obama&gt;</td>\n",
       "      <td>Barack Obama</td>\n",
       "      <td>barack hussein obama ii brk husen bm born augu...</td>\n",
       "    </tr>\n",
       "  </tbody>\n",
       "</table>\n",
       "</div>"
      ],
      "text/plain": [
       "                                              URI          name  \\\n",
       "35817  <http://dbpedia.org/resource/Barack_Obama>  Barack Obama   \n",
       "\n",
       "                                                    text  \n",
       "35817  barack hussein obama ii brk husen bm born augu...  "
      ]
     },
     "execution_count": 6,
     "metadata": {},
     "output_type": "execute_result"
    }
   ],
   "source": [
    "obama"
   ]
  },
  {
   "cell_type": "code",
   "execution_count": 7,
   "metadata": {
    "collapsed": false
   },
   "outputs": [
    {
     "name": "stdout",
     "output_type": "stream",
     "text": [
      "35817    barack hussein obama ii brk husen bm born augu...\n",
      "Name: text, dtype: object\n"
     ]
    }
   ],
   "source": [
    "text = obama['text']\n",
    "print(text)"
   ]
  },
  {
   "cell_type": "markdown",
   "metadata": {},
   "source": [
    "# Hand-on exercise 1\n",
    "### Exploring the entry for actor George Clooney"
   ]
  },
  {
   "cell_type": "code",
   "execution_count": null,
   "metadata": {
    "collapsed": true
   },
   "outputs": [],
   "source": [
    "# Fill in the answer here"
   ]
  },
  {
   "cell_type": "markdown",
   "metadata": {},
   "source": [
    "# Get the word counts for Obama article"
   ]
  },
  {
   "cell_type": "code",
   "execution_count": 8,
   "metadata": {
    "collapsed": false
   },
   "outputs": [],
   "source": [
    "from collections import Counter\n",
    "word_count_obama = [Counter(\" \".join(obama['text'].values.tolist()).split(\" \"))]"
   ]
  },
  {
   "cell_type": "code",
   "execution_count": 9,
   "metadata": {
    "collapsed": false
   },
   "outputs": [
    {
     "name": "stdout",
     "output_type": "stream",
     "text": [
      "[Counter({'the': 40, 'in': 30, 'and': 21, 'of': 18, 'to': 14, 'his': 11, 'obama': 9, 'act': 8, 'he': 7, 'a': 7, 'us': 6, 'as': 6, 'law': 6, 'was': 5, 'for': 4, 'iraq': 4, 'military': 4, 'control': 4, 'has': 4, 'after': 4, 'president': 4, 'democratic': 4, '2011': 3, 'term': 3, 'school': 3, 'january': 3, 'response': 3, 'senate': 3, 'election': 3, 'american': 3, 'first': 3, 'campaign': 3, 'from': 3, 'with': 3, 'signed': 3, 'states': 3, 'ordered': 3, 'united': 3, 'party': 3, 'involvement': 3, '2009': 3, '2004': 3, 'office': 2, 'domestic': 2, '20': 2, 'policy': 2, '2010': 2, 'during': 2, 'republican': 2, 'presidential': 2, 'university': 2, 'served': 2, 'on': 2, 'house': 2, 'national': 2, 'born': 2, 'second': 2, 'afghanistan': 2, 'chicago': 2, 'representatives': 2, 'harvard': 2, 'november': 2, 'foreign': 2, 'protection': 2, 'dont': 2, 'primary': 2, 'nominee': 2, 'is': 2, 'at': 2, 'illinois': 2, 'relief': 2, 'operations': 1, 'represent': 1, 'unemployment': 1, 'administration': 1, 'over': 1, 'unconstitutional': 1, 'major': 1, 'years': 1, 'ended': 1, 'proposition': 1, 'seats': 1, 'graduate': 1, 'july': 1, 'before': 1, 'death': 1, 'californias': 1, 'taxpayer': 1, 'representing': 1, 'obamacare': 1, 'barack': 1, '4': 1, 'marriage': 1, '2013': 1, '2012': 1, 'bin': 1, 'then': 1, 'march': 1, 'increased': 1, 'cuba': 1, 'made': 1, 'not': 1, 'continued': 1, 'husen': 1, 'down': 1, 'equality': 1, 'prize': 1, 'lost': 1, 'called': 1, 'inaugurated': 1, '1996': 1, 'hawaii': 1, 'debt': 1, 'stimulus': 1, 'victory': 1, 'withdrawal': 1, 'where': 1, 'referred': 1, 'affordable': 1, 'attorney': 1, 'often': 1, 'creation': 1, 'related': 1, 'gun': 1, 'taught': 1, 'close': 1, 'operation': 1, 'nations': 1, 'insurance': 1, 'sandy': 1, 'initiatives': 1, 'federal': 1, 'review': 1, 'debate': 1, 'current': 1, 'state': 1, 'won': 1, 'americans': 1, 'new': 1, 'troop': 1, 'unsuccessfully': 1, 'reauthorization': 1, 'keynote': 1, 'full': 1, 'terms': 1, 'august': 1, 'degree': 1, '44th': 1, 'bm': 1, 'mitt': 1, 'attention': 1, 'delegates': 1, 'lgbt': 1, 'job': 1, 'address': 1, 'ask': 1, 'by': 1, 'wall': 1, 'care': 1, 'received': 1, 'great': 1, 'defense': 1, 'libya': 1, 'receive': 1, 'months': 1, 'against': 1, 'hussein': 1, 'or': 1, 'named': 1, 'clinton': 1, 'civil': 1, 'reinvestment': 1, 'into': 1, 'community': 1, 'mccain': 1, 'osama': 1, 'hook': 1, '63': 1, 'brk': 1, 'elementary': 1, 'total': 1, 'earning': 1, 'while': 1, 'repeal': 1, 'raise': 1, 'district': 1, 'spending': 1, 'legislation': 1, 'three': 1, 'relations': 1, 'nobel': 1, 'start': 1, 'convention': 1, 'resulted': 1, 'john': 1, 'tell': 1, 'form': 1, 'rodham': 1, 'romney': 1, 'sufficient': 1, 'republicans': 1, 'briefs': 1, 'strike': 1, 'hillary': 1, 'arms': 1, 'honolulu': 1, 'filed': 1, 'regained': 1, 'worked': 1, 'hold': 1, '13th': 1, '1992': 1, '1997': 1, 'rights': 1, 'whether': 1, 'reelected': 1, 'budget': 1, 'war': 1, 'recession': 1, 'economic': 1, 'nine': 1, 'policies': 1, 'promoted': 1, 'russia': 1, 'supreme': 1, 'process': 1, '2000in': 1, 'tax': 1, 'street': 1, 'defeated': 1, 'general': 1, 'ii': 1, '8': 1, 'sought': 1, 'limit': 1, 'organizer': 1, 'shooting': 1, '2012obama': 1, 'gains': 1, 'normalize': 1, 'lengthy': 1, 'court': 1, 'recovery': 1, 'laden': 1, 'began': 1, 'peace': 1, 'doddfrank': 1, '1961': 1, 'that': 1, 'other': 1, 'patient': 1, 'which': 1, 'primaries': 1, 'sworn': 1, 'columbia': 1, 'combat': 1, 'islamic': 1, 'running': 1, 'levels': 1, 'two': 1, 'included': 1, 'nomination': 1, '2008': 1, 'urged': 1, 'ending': 1, 'reform': 1, 'constitutional': 1, 'defeating': 1, 'treaty': 1, '2007': 1, 'african': 1, 'consumer': 1, 'laureateduring': 1})]\n"
     ]
    }
   ],
   "source": [
    "print word_count_obama"
   ]
  },
  {
   "cell_type": "markdown",
   "metadata": {},
   "source": [
    "# Sort the word counts for the Obama article\n"
   ]
  },
  {
   "cell_type": "markdown",
   "metadata": {},
   "source": [
    "### Sorting the word counts to show top common words at the top"
   ]
  },
  {
   "cell_type": "code",
   "execution_count": 143,
   "metadata": {
    "collapsed": false
   },
   "outputs": [],
   "source": [
    "import operator\n",
    "def cal_word_count(each_people):\n",
    "    each_words = [Counter(\" \".join(each_people['text'].values.tolist()).split(\" \"))]\n",
    "    sorted_words = sorted(each_words[0].items(),key=operator.itemgetter(1))\n",
    "    sorted_words.reverse()\n",
    "    return sorted_words"
   ]
  },
  {
   "cell_type": "code",
   "execution_count": 144,
   "metadata": {
    "collapsed": false
   },
   "outputs": [
    {
     "data": {
      "text/plain": [
       "[('the', 40),\n",
       " ('in', 30),\n",
       " ('and', 21),\n",
       " ('of', 18),\n",
       " ('to', 14),\n",
       " ('his', 11),\n",
       " ('obama', 9),\n",
       " ('act', 8),\n",
       " ('a', 7),\n",
       " ('he', 7),\n",
       " ('law', 6),\n",
       " ('as', 6),\n",
       " ('us', 6),\n",
       " ('was', 5),\n",
       " ('democratic', 4),\n",
       " ('president', 4),\n",
       " ('after', 4),\n",
       " ('has', 4),\n",
       " ('control', 4),\n",
       " ('military', 4),\n",
       " ('iraq', 4),\n",
       " ('for', 4),\n",
       " ('2004', 3),\n",
       " ('2009', 3),\n",
       " ('involvement', 3),\n",
       " ('party', 3),\n",
       " ('united', 3),\n",
       " ('ordered', 3),\n",
       " ('states', 3),\n",
       " ('signed', 3),\n",
       " ('with', 3),\n",
       " ('from', 3),\n",
       " ('campaign', 3),\n",
       " ('first', 3),\n",
       " ('american', 3),\n",
       " ('election', 3),\n",
       " ('senate', 3),\n",
       " ('response', 3),\n",
       " ('january', 3),\n",
       " ('school', 3),\n",
       " ('term', 3),\n",
       " ('2011', 3),\n",
       " ('relief', 2),\n",
       " ('illinois', 2),\n",
       " ('at', 2),\n",
       " ('is', 2),\n",
       " ('nominee', 2),\n",
       " ('primary', 2),\n",
       " ('dont', 2),\n",
       " ('protection', 2),\n",
       " ('foreign', 2),\n",
       " ('november', 2),\n",
       " ('harvard', 2),\n",
       " ('representatives', 2),\n",
       " ('chicago', 2),\n",
       " ('afghanistan', 2),\n",
       " ('second', 2),\n",
       " ('born', 2),\n",
       " ('national', 2),\n",
       " ('house', 2),\n",
       " ('on', 2),\n",
       " ('served', 2),\n",
       " ('university', 2),\n",
       " ('presidential', 2),\n",
       " ('republican', 2),\n",
       " ('during', 2),\n",
       " ('2010', 2),\n",
       " ('policy', 2),\n",
       " ('20', 2),\n",
       " ('domestic', 2),\n",
       " ('office', 2),\n",
       " ('laureateduring', 1),\n",
       " ('consumer', 1),\n",
       " ('african', 1),\n",
       " ('2007', 1),\n",
       " ('treaty', 1),\n",
       " ('defeating', 1),\n",
       " ('constitutional', 1),\n",
       " ('reform', 1),\n",
       " ('ending', 1),\n",
       " ('urged', 1),\n",
       " ('2008', 1),\n",
       " ('nomination', 1),\n",
       " ('included', 1),\n",
       " ('two', 1),\n",
       " ('levels', 1),\n",
       " ('running', 1),\n",
       " ('islamic', 1),\n",
       " ('combat', 1),\n",
       " ('columbia', 1),\n",
       " ('sworn', 1),\n",
       " ('primaries', 1),\n",
       " ('which', 1),\n",
       " ('patient', 1),\n",
       " ('other', 1),\n",
       " ('that', 1),\n",
       " ('1961', 1),\n",
       " ('doddfrank', 1),\n",
       " ('peace', 1),\n",
       " ('began', 1),\n",
       " ('laden', 1),\n",
       " ('recovery', 1),\n",
       " ('court', 1),\n",
       " ('lengthy', 1),\n",
       " ('normalize', 1),\n",
       " ('gains', 1),\n",
       " ('2012obama', 1),\n",
       " ('shooting', 1),\n",
       " ('organizer', 1),\n",
       " ('limit', 1),\n",
       " ('sought', 1),\n",
       " ('8', 1),\n",
       " ('ii', 1),\n",
       " ('general', 1),\n",
       " ('defeated', 1),\n",
       " ('street', 1),\n",
       " ('tax', 1),\n",
       " ('2000in', 1),\n",
       " ('process', 1),\n",
       " ('supreme', 1),\n",
       " ('russia', 1),\n",
       " ('promoted', 1),\n",
       " ('policies', 1),\n",
       " ('nine', 1),\n",
       " ('economic', 1),\n",
       " ('recession', 1),\n",
       " ('war', 1),\n",
       " ('budget', 1),\n",
       " ('reelected', 1),\n",
       " ('whether', 1),\n",
       " ('rights', 1),\n",
       " ('1997', 1),\n",
       " ('1992', 1),\n",
       " ('13th', 1),\n",
       " ('hold', 1),\n",
       " ('worked', 1),\n",
       " ('regained', 1),\n",
       " ('filed', 1),\n",
       " ('honolulu', 1),\n",
       " ('arms', 1),\n",
       " ('hillary', 1),\n",
       " ('strike', 1),\n",
       " ('briefs', 1),\n",
       " ('republicans', 1),\n",
       " ('sufficient', 1),\n",
       " ('romney', 1),\n",
       " ('rodham', 1),\n",
       " ('form', 1),\n",
       " ('tell', 1),\n",
       " ('john', 1),\n",
       " ('resulted', 1),\n",
       " ('convention', 1),\n",
       " ('start', 1),\n",
       " ('nobel', 1),\n",
       " ('relations', 1),\n",
       " ('three', 1),\n",
       " ('legislation', 1),\n",
       " ('spending', 1),\n",
       " ('district', 1),\n",
       " ('raise', 1),\n",
       " ('repeal', 1),\n",
       " ('while', 1),\n",
       " ('earning', 1),\n",
       " ('total', 1),\n",
       " ('elementary', 1),\n",
       " ('brk', 1),\n",
       " ('63', 1),\n",
       " ('hook', 1),\n",
       " ('osama', 1),\n",
       " ('mccain', 1),\n",
       " ('community', 1),\n",
       " ('into', 1),\n",
       " ('reinvestment', 1),\n",
       " ('civil', 1),\n",
       " ('clinton', 1),\n",
       " ('named', 1),\n",
       " ('or', 1),\n",
       " ('hussein', 1),\n",
       " ('against', 1),\n",
       " ('months', 1),\n",
       " ('receive', 1),\n",
       " ('libya', 1),\n",
       " ('defense', 1),\n",
       " ('great', 1),\n",
       " ('received', 1),\n",
       " ('care', 1),\n",
       " ('wall', 1),\n",
       " ('by', 1),\n",
       " ('ask', 1),\n",
       " ('address', 1),\n",
       " ('job', 1),\n",
       " ('lgbt', 1),\n",
       " ('delegates', 1),\n",
       " ('attention', 1),\n",
       " ('mitt', 1),\n",
       " ('bm', 1),\n",
       " ('44th', 1),\n",
       " ('degree', 1),\n",
       " ('august', 1),\n",
       " ('terms', 1),\n",
       " ('full', 1),\n",
       " ('keynote', 1),\n",
       " ('reauthorization', 1),\n",
       " ('unsuccessfully', 1),\n",
       " ('troop', 1),\n",
       " ('new', 1),\n",
       " ('americans', 1),\n",
       " ('won', 1),\n",
       " ('state', 1),\n",
       " ('current', 1),\n",
       " ('debate', 1),\n",
       " ('review', 1),\n",
       " ('federal', 1),\n",
       " ('initiatives', 1),\n",
       " ('sandy', 1),\n",
       " ('insurance', 1),\n",
       " ('nations', 1),\n",
       " ('operation', 1),\n",
       " ('close', 1),\n",
       " ('taught', 1),\n",
       " ('gun', 1),\n",
       " ('related', 1),\n",
       " ('creation', 1),\n",
       " ('often', 1),\n",
       " ('attorney', 1),\n",
       " ('affordable', 1),\n",
       " ('referred', 1),\n",
       " ('where', 1),\n",
       " ('withdrawal', 1),\n",
       " ('victory', 1),\n",
       " ('stimulus', 1),\n",
       " ('debt', 1),\n",
       " ('hawaii', 1),\n",
       " ('1996', 1),\n",
       " ('inaugurated', 1),\n",
       " ('called', 1),\n",
       " ('lost', 1),\n",
       " ('prize', 1),\n",
       " ('equality', 1),\n",
       " ('down', 1),\n",
       " ('husen', 1),\n",
       " ('continued', 1),\n",
       " ('not', 1),\n",
       " ('made', 1),\n",
       " ('cuba', 1),\n",
       " ('increased', 1),\n",
       " ('march', 1),\n",
       " ('then', 1),\n",
       " ('bin', 1),\n",
       " ('2012', 1),\n",
       " ('2013', 1),\n",
       " ('marriage', 1),\n",
       " ('4', 1),\n",
       " ('barack', 1),\n",
       " ('obamacare', 1),\n",
       " ('representing', 1),\n",
       " ('taxpayer', 1),\n",
       " ('californias', 1),\n",
       " ('death', 1),\n",
       " ('before', 1),\n",
       " ('july', 1),\n",
       " ('graduate', 1),\n",
       " ('seats', 1),\n",
       " ('proposition', 1),\n",
       " ('ended', 1),\n",
       " ('years', 1),\n",
       " ('major', 1),\n",
       " ('unconstitutional', 1),\n",
       " ('over', 1),\n",
       " ('administration', 1),\n",
       " ('unemployment', 1),\n",
       " ('represent', 1),\n",
       " ('operations', 1)]"
      ]
     },
     "execution_count": 144,
     "metadata": {},
     "output_type": "execute_result"
    }
   ],
   "source": [
    "cal_word_count(each_people=obama)"
   ]
  },
  {
   "cell_type": "markdown",
   "metadata": {},
   "source": [
    "Most common words include uninformative words like \"the\", \"in\", \"and\",..."
   ]
  },
  {
   "cell_type": "markdown",
   "metadata": {},
   "source": [
    "# Hand-on exercise 2\n",
    "### Exploring sorting the word counts for Elton John"
   ]
  },
  {
   "cell_type": "code",
   "execution_count": null,
   "metadata": {
    "collapsed": true
   },
   "outputs": [],
   "source": [
    "# "
   ]
  },
  {
   "cell_type": "markdown",
   "metadata": {},
   "source": [
    "### Compute TF-IDF for the corpus \n"
   ]
  },
  {
   "cell_type": "markdown",
   "metadata": {},
   "source": [
    "To give more weight to informative words, we weigh them by their TF-IDF scores."
   ]
  },
  {
   "cell_type": "code",
   "execution_count": 14,
   "metadata": {
    "collapsed": true
   },
   "outputs": [],
   "source": [
    "from sklearn.feature_extraction.text import CountVectorizer\n",
    "from sklearn.feature_extraction.text import TfidfTransformer"
   ]
  },
  {
   "cell_type": "markdown",
   "metadata": {},
   "source": [
    "CountVectorizer converts a collection of text documents to a matrix of token counts"
   ]
  },
  {
   "cell_type": "code",
   "execution_count": 55,
   "metadata": {
    "collapsed": true
   },
   "outputs": [],
   "source": [
    "vectorizer = CountVectorizer(analyzer=\"word\", tokenizer = None, preprocessor = None, \n",
    "                             stop_words = \"english\")"
   ]
  },
  {
   "cell_type": "markdown",
   "metadata": {},
   "source": [
    "fit_transform will learn the vocabulary dictionary and return term-document matrix. (tf calculation)"
   ]
  },
  {
   "cell_type": "code",
   "execution_count": 56,
   "metadata": {
    "collapsed": true
   },
   "outputs": [],
   "source": [
    "word_counts = vectorizer.fit_transform(people['text'])"
   ]
  },
  {
   "cell_type": "markdown",
   "metadata": {},
   "source": [
    "get_feature_names returns indeces and feature names "
   ]
  },
  {
   "cell_type": "code",
   "execution_count": 101,
   "metadata": {
    "collapsed": true
   },
   "outputs": [],
   "source": [
    "features_names = vectorizer.get_feature_names()"
   ]
  },
  {
   "cell_type": "markdown",
   "metadata": {},
   "source": [
    "TfidfTransformer will transform a count matrix to a normalized tf or tf-idf representation"
   ]
  },
  {
   "cell_type": "code",
   "execution_count": 58,
   "metadata": {
    "collapsed": true
   },
   "outputs": [],
   "source": [
    "transformer = TfidfTransformer(norm=None)"
   ]
  },
  {
   "cell_type": "code",
   "execution_count": 59,
   "metadata": {
    "collapsed": false
   },
   "outputs": [],
   "source": [
    "people_tfidf = transformer.fit_transform(word_counts)"
   ]
  },
  {
   "cell_type": "markdown",
   "metadata": {},
   "source": [
    "#### Words with highest TF-IDF are much more informative."
   ]
  },
  {
   "cell_type": "code",
   "execution_count": 64,
   "metadata": {
    "collapsed": false
   },
   "outputs": [],
   "source": [
    "obama_tfidf = people_tfidf[obama.index]"
   ]
  },
  {
   "cell_type": "code",
   "execution_count": 106,
   "metadata": {
    "collapsed": true
   },
   "outputs": [],
   "source": [
    "obama_features = map(lambda x: features_names[x], obama_ifidf.indices)"
   ]
  },
  {
   "cell_type": "code",
   "execution_count": 108,
   "metadata": {
    "collapsed": true
   },
   "outputs": [],
   "source": [
    "obama_tfidf_vec = dict(zip(obama_features, obama_ifidf.data))"
   ]
  },
  {
   "cell_type": "code",
   "execution_count": 110,
   "metadata": {
    "collapsed": true
   },
   "outputs": [],
   "source": [
    "import operator"
   ]
  },
  {
   "cell_type": "code",
   "execution_count": 111,
   "metadata": {
    "collapsed": true
   },
   "outputs": [],
   "source": [
    "sorted_obama_tfidf = sorted(obama_tfidf_vec.items(), key=operator.itemgetter(1))"
   ]
  },
  {
   "cell_type": "code",
   "execution_count": 113,
   "metadata": {
    "collapsed": false
   },
   "outputs": [],
   "source": [
    "sorted_obama_tfidf.reverse()"
   ]
  },
  {
   "cell_type": "code",
   "execution_count": 118,
   "metadata": {
    "collapsed": false
   },
   "outputs": [
    {
     "data": {
      "text/plain": [
       "[(u'obama', 52.277113834307315),\n",
       " (u'act', 35.674051187909924),\n",
       " (u'iraq', 21.741727931276476),\n",
       " (u'law', 20.721855882367674),\n",
       " (u'control', 18.884330378434285),\n",
       " (u'ordered', 17.526980051210632),\n",
       " (u'military', 17.114203144108135),\n",
       " (u'democratic', 16.409249536745939),\n",
       " (u'response', 15.780836746511332),\n",
       " (u'involvement', 15.780836746511332),\n",
       " (u'senate', 13.162835582973344),\n",
       " (u'term', 12.318257920710373),\n",
       " (u'campaign', 12.077519128423219),\n",
       " (u'nominee', 11.427270622632713),\n",
       " (u'afghanistan', 11.41598178739336),\n",
       " (u'laureateduring', 11.293365137302578),\n",
       " (u'2012obama', 11.293365137302578),\n",
       " (u'husen', 11.293365137302578),\n",
       " (u'president', 11.2265246134842),\n",
       " (u'domestic', 10.964448288651756),\n",
       " (u'normalize', 10.887900029194414),\n",
       " (u'brk', 10.887900029194414),\n",
       " (u'relief', 10.839679776118567),\n",
       " (u'election', 10.712062862503725),\n",
       " (u'protection', 10.695889057392007),\n",
       " (u'doddfrank', 10.600217956742634),\n",
       " (u'signed', 10.552378505322665),\n",
       " (u'dont', 10.279138356554288),\n",
       " (u'party', 10.061549629920517),\n",
       " (u'obamacare', 9.9070707761826888),\n",
       " (u'reauthorization', 9.789287740526305),\n",
       " (u'representatives', 9.4831415430510333),\n",
       " (u'illinois', 9.4788634665535341),\n",
       " (u'presidential', 9.3856291945221741),\n",
       " (u'reinvestment', 9.3474549882472662),\n",
       " (u'republican', 9.2062883417402812),\n",
       " (u'primary', 8.7101613065712371),\n",
       " (u'january', 8.6559521794414174),\n",
       " (u'rodham', 8.6543078076873208),\n",
       " (u'harvard', 8.633100644777894),\n",
       " (u'stimulus', 8.6192164878760487),\n",
       " (u'states', 8.4729369636428302),\n",
       " (u'briefs', 8.4311642563731102),\n",
       " (u'taxpayer', 8.4029933794064142),\n",
       " (u'foreign', 8.380908687092802),\n",
       " (u'repeal', 8.2729402511582162),\n",
       " (u'troop', 8.2253122021689613),\n",
       " (u'bm', 8.1798498280922054),\n",
       " (u'2011', 8.1068134141404204),\n",
       " (u'policy', 8.0947069998114536),\n",
       " (u'2004', 8.0708085506569134),\n",
       " (u'44th', 8.0546866851381971),\n",
       " (u'proposition', 7.9089748739568044),\n",
       " (u'chicago', 7.8576362460938727),\n",
       " (u'romney', 7.8276292345028518),\n",
       " (u'unconstitutional', 7.8121250479668864),\n",
       " (u'mitt', 7.7968575758360981),\n",
       " (u'mccain', 7.7524058132652645),\n",
       " (u'gains', 7.7098461988464688),\n",
       " (u'united', 7.7035734264543994),\n",
       " (u'laden', 7.6960528767141332),\n",
       " (u'2009', 7.6931174888183662),\n",
       " (u'primaries', 7.6557789775761931),\n",
       " (u'recession', 7.6298034911729324),\n",
       " (u'unemployment', 7.6298034911729324),\n",
       " (u'osama', 7.592063163190085),\n",
       " (u'sufficient', 7.422164126394688),\n",
       " (u'libya', 7.3230732237504572),\n",
       " (u'hook', 7.2860319520701076),\n",
       " (u'inaugurated', 7.2680134465674291),\n",
       " (u'withdrawal', 7.2680134465674291),\n",
       " (u'office', 7.2477397725897692),\n",
       " (u'2000in', 7.241580189499274),\n",
       " (u'urged', 7.1907217722657828),\n",
       " (u'delegates', 7.1344820539429072),\n",
       " (u'affordable', 7.1266999135008522),\n",
       " (u'hussein', 7.1189778674069419),\n",
       " (u'hillary', 6.9960797310837872),\n",
       " (u'californias', 6.9176081156422926),\n",
       " (u'treaty', 6.8927621170557618),\n",
       " (u'20', 6.883797061740589),\n",
       " (u'honolulu', 6.8745245295059805),\n",
       " (u'lengthy', 6.8566136029394507),\n",
       " (u'school', 6.6682401255045995),\n",
       " (u'house', 6.6507839152792867),\n",
       " (u'patient', 6.6346541843864575),\n",
       " (u'debt', 6.6112339101783588),\n",
       " (u'bin', 6.6112339101783588),\n",
       " (u'republicans', 6.5883496163447717),\n",
       " (u'lgbt', 6.5838349359902448),\n",
       " (u'regained', 6.5793405464024053),\n",
       " (u'ask', 6.5058733945205329),\n",
       " (u'organizer', 6.4975745917058374),\n",
       " (u'sandy', 6.489344092569322),\n",
       " (u'keynote', 6.4296842561629859),\n",
       " (u'american', 6.3820273379325636),\n",
       " (u'limit', 6.351722714693274),\n",
       " (u'equality', 6.3375380797013179),\n",
       " (u'gun', 6.2662005412551123),\n",
       " (u'63', 6.2181913220687521),\n",
       " (u'recovery', 6.1004082864123683),\n",
       " (u'nobel', 6.0730093122242543),\n",
       " (u'barack', 6.0649338982187082),\n",
       " (u'arms', 6.0280876248327422),\n",
       " (u'strike', 6.0229329742440774),\n",
       " (u'cuba', 6.0025760371753334),\n",
       " (u'seats', 5.9975509009726604),\n",
       " (u'sworn', 5.9582337976318254),\n",
       " (u'elementary', 5.9582337976318254),\n",
       " (u'13th', 5.9510308853377678),\n",
       " (u'november', 5.9451037198626722),\n",
       " (u'combat', 5.9297283046338993),\n",
       " (u'initiatives', 5.8929425478173885),\n",
       " (u'unsuccessfully', 5.8295333322769682),\n",
       " (u'hawaii', 5.804427411145892),\n",
       " (u'tell', 5.8023634269250408),\n",
       " (u'address', 5.8003036939620305),\n",
       " (u'islamic', 5.7839768006746013),\n",
       " (u'debate', 5.7819545552938338),\n",
       " (u'americans', 5.7599756485750584),\n",
       " (u'consumer', 5.752101592144153),\n",
       " (u'increased', 5.7481876928230164),\n",
       " (u'filed', 5.7061164789023291),\n",
       " (u'legislation', 5.6857265231992802),\n",
       " (u'shooting', 5.6802370309145083),\n",
       " (u'raise', 5.6729642715854283),\n",
       " (u'policies', 5.6585755341333295),\n",
       " (u'levels', 5.6461530141347716),\n",
       " (u'insurance', 5.5929215639118919),\n",
       " (u'ending', 5.5455657772296032),\n",
       " (u'tax', 5.5439721513943256),\n",
       " (u'clinton', 5.5407924984769457),\n",
       " (u'constitutional', 5.5281740345177344),\n",
       " (u'budget', 5.521924014172563),\n",
       " (u'receive', 5.446926362244854),\n",
       " (u'convention', 5.41562935552294),\n",
       " (u'operation', 5.3571490644250748),\n",
       " (u'second', 5.3447052344946879),\n",
       " (u'sought', 5.325937168022838),\n",
       " (u'defeating', 5.2845519518599842),\n",
       " (u'referred', 5.2543016113953174),\n",
       " (u'2010', 5.1857017775186058),\n",
       " (u'represent', 5.1830070602541864),\n",
       " (u'spending', 5.1752679392612304),\n",
       " (u'hold', 5.1438290356241021),\n",
       " (u'marriage', 5.114384216523538),\n",
       " (u'reform', 5.0918422784290422),\n",
       " (u'served', 5.072421219291944),\n",
       " (u'creation', 5.0347401534636127),\n",
       " (u'russia', 5.0242688535963174),\n",
       " (u'wall', 5.0204881307564113),\n",
       " (u'resulted', 5.0148437131367345),\n",
       " (u'care', 4.9157882106022477),\n",
       " (u'supreme', 4.913242600402814),\n",
       " (u'earning', 4.8564138077369456),\n",
       " (u'terms', 4.8233399270158817),\n",
       " (u'operations', 4.8110226042383015),\n",
       " (u'defense', 4.7935780966467245),\n",
       " (u'peace', 4.7920754667621894),\n",
       " (u'nomination', 4.7690688861659911),\n",
       " (u'process', 4.7444299586055623),\n",
       " (u'related', 4.7231827003856877),\n",
       " (u'reelected', 4.6819963714023682),\n",
       " (u'attorney', 4.6587317794408936),\n",
       " (u'african', 4.5816247422463992),\n",
       " (u'close', 4.5410947611608368),\n",
       " (u'representing', 4.5346900813345945),\n",
       " (u'promoted', 4.5185699855766721),\n",
       " (u'job', 4.4464219977171986),\n",
       " (u'relations', 4.4453598627262156),\n",
       " (u'attention', 4.4264318528406967),\n",
       " (u'defeated', 4.4063228999179831),\n",
       " (u'victory', 4.3841109821967059),\n",
       " (u'national', 4.3722201868194421),\n",
       " (u'nations', 4.361405169623624),\n",
       " (u'running', 4.3512084316031094),\n",
       " (u'ended', 4.3425503688599942),\n",
       " (u'civil', 4.3240445026622867),\n",
       " (u'1961', 4.3202903921997997),\n",
       " (u'ii', 4.3072608919094648),\n",
       " (u'administration', 4.2948554950519782),\n",
       " (u'start', 4.2807994939680967),\n",
       " (u'total', 4.2763071234299916),\n",
       " (u'economic', 4.27005151768617),\n",
       " (u'street', 4.2497686354090281),\n",
       " (u'form', 4.2333180479781829),\n",
       " (u'columbia', 4.2324596788267668),\n",
       " (u'review', 4.2273248793547289),\n",
       " (u'death', 4.1564842353286844),\n",
       " (u'federal', 4.0884726270979055),\n",
       " (u'rights', 4.0664291188092898),\n",
       " (u'months', 4.0423748267484108),\n",
       " (u'court', 3.8961100212692035),\n",
       " (u'taught', 3.8482396793323388),\n",
       " (u'current', 3.8305759798901304),\n",
       " (u'war', 3.8095584496367434),\n",
       " (u'district', 3.7742151796327557),\n",
       " (u'great', 3.767994740372933),\n",
       " (u'prize', 3.7450726280327937),\n",
       " (u'lost', 3.7314634151102291),\n",
       " (u'continued', 3.7203478812500319),\n",
       " (u'university', 3.694640863934656),\n",
       " (u'community', 3.6929628028021786),\n",
       " (u'graduate', 3.6748683693595452),\n",
       " (u'included', 3.4444314109385075),\n",
       " (u'1992', 3.2785334912402027),\n",
       " (u'general', 3.2205858041330804),\n",
       " (u'1996', 3.1357081221061058),\n",
       " (u'1997', 3.1297089611341464),\n",
       " (u'called', 3.0783587045410039),\n",
       " (u'major', 3.0580044935492308),\n",
       " (u'named', 3.0299035789685749),\n",
       " (u'degree', 3.0205391336521776),\n",
       " (u'august', 3.0000657785912552),\n",
       " (u'john', 2.9912233273032145),\n",
       " (u'march', 2.9573341749604491),\n",
       " (u'2013', 2.9544616415669251),\n",
       " (u'july', 2.9426988967816552),\n",
       " (u'2012', 2.7937251051339302),\n",
       " (u'began', 2.7273817817169093),\n",
       " (u'state', 2.7089806963460177),\n",
       " (u'worked', 2.5539087819994388),\n",
       " (u'received', 2.5395989742604708),\n",
       " (u'born', 2.5363821330197025),\n",
       " (u'2008', 2.5093560661159451),\n",
       " (u'2007', 2.4879899983929095),\n",
       " (u'won', 2.3835894636091908),\n",
       " (u'years', 2.0752550280620357),\n",
       " (u'new', 1.8872113016841423)]"
      ]
     },
     "execution_count": 118,
     "metadata": {},
     "output_type": "execute_result"
    }
   ],
   "source": [
    "sorted_obama_tfidf"
   ]
  },
  {
   "cell_type": "code",
   "execution_count": 136,
   "metadata": {
    "collapsed": true
   },
   "outputs": [],
   "source": [
    "def cal_top_freq_features(each_person):\n",
    "    \n",
    "    each_tfidf = people_tfidf[each_person.index]\n",
    "    each_features = map(lambda x: features_names[x], each_tfidf.indices)\n",
    "    each_tfidf_vec = dict(zip(each_features, each_tfidf.data))\n",
    "    each_sorted_tfidf = sorted(each_tfidf_vec.items(), key=operator.itemgetter(1))\n",
    "    each_sorted_tfidf.reverse()\n",
    "    return each_sorted_tfidf"
   ]
  },
  {
   "cell_type": "markdown",
   "metadata": {},
   "source": [
    "If you want to reproduce obama again with cal_top_freq_features, "
   ]
  },
  {
   "cell_type": "code",
   "execution_count": 138,
   "metadata": {
    "collapsed": false
   },
   "outputs": [
    {
     "data": {
      "text/plain": [
       "[(u'obama', 52.277113834307315),\n",
       " (u'act', 35.674051187909924),\n",
       " (u'iraq', 21.741727931276476),\n",
       " (u'law', 20.721855882367674),\n",
       " (u'control', 18.884330378434285),\n",
       " (u'ordered', 17.526980051210632),\n",
       " (u'military', 17.114203144108135),\n",
       " (u'democratic', 16.409249536745939),\n",
       " (u'response', 15.780836746511332),\n",
       " (u'involvement', 15.780836746511332),\n",
       " (u'senate', 13.162835582973344),\n",
       " (u'term', 12.318257920710373),\n",
       " (u'campaign', 12.077519128423219),\n",
       " (u'nominee', 11.427270622632713),\n",
       " (u'afghanistan', 11.41598178739336),\n",
       " (u'laureateduring', 11.293365137302578),\n",
       " (u'2012obama', 11.293365137302578),\n",
       " (u'husen', 11.293365137302578),\n",
       " (u'president', 11.2265246134842),\n",
       " (u'domestic', 10.964448288651756),\n",
       " (u'normalize', 10.887900029194414),\n",
       " (u'brk', 10.887900029194414),\n",
       " (u'relief', 10.839679776118567),\n",
       " (u'election', 10.712062862503725),\n",
       " (u'protection', 10.695889057392007),\n",
       " (u'doddfrank', 10.600217956742634),\n",
       " (u'signed', 10.552378505322665),\n",
       " (u'dont', 10.279138356554288),\n",
       " (u'party', 10.061549629920517),\n",
       " (u'obamacare', 9.9070707761826888),\n",
       " (u'reauthorization', 9.789287740526305),\n",
       " (u'representatives', 9.4831415430510333),\n",
       " (u'illinois', 9.4788634665535341),\n",
       " (u'presidential', 9.3856291945221741),\n",
       " (u'reinvestment', 9.3474549882472662),\n",
       " (u'republican', 9.2062883417402812),\n",
       " (u'primary', 8.7101613065712371),\n",
       " (u'january', 8.6559521794414174),\n",
       " (u'rodham', 8.6543078076873208),\n",
       " (u'harvard', 8.633100644777894),\n",
       " (u'stimulus', 8.6192164878760487),\n",
       " (u'states', 8.4729369636428302),\n",
       " (u'briefs', 8.4311642563731102),\n",
       " (u'taxpayer', 8.4029933794064142),\n",
       " (u'foreign', 8.380908687092802),\n",
       " (u'repeal', 8.2729402511582162),\n",
       " (u'troop', 8.2253122021689613),\n",
       " (u'bm', 8.1798498280922054),\n",
       " (u'2011', 8.1068134141404204),\n",
       " (u'policy', 8.0947069998114536),\n",
       " (u'2004', 8.0708085506569134),\n",
       " (u'44th', 8.0546866851381971),\n",
       " (u'proposition', 7.9089748739568044),\n",
       " (u'chicago', 7.8576362460938727),\n",
       " (u'romney', 7.8276292345028518),\n",
       " (u'unconstitutional', 7.8121250479668864),\n",
       " (u'mitt', 7.7968575758360981),\n",
       " (u'mccain', 7.7524058132652645),\n",
       " (u'gains', 7.7098461988464688),\n",
       " (u'united', 7.7035734264543994),\n",
       " (u'laden', 7.6960528767141332),\n",
       " (u'2009', 7.6931174888183662),\n",
       " (u'primaries', 7.6557789775761931),\n",
       " (u'recession', 7.6298034911729324),\n",
       " (u'unemployment', 7.6298034911729324),\n",
       " (u'osama', 7.592063163190085),\n",
       " (u'sufficient', 7.422164126394688),\n",
       " (u'libya', 7.3230732237504572),\n",
       " (u'hook', 7.2860319520701076),\n",
       " (u'inaugurated', 7.2680134465674291),\n",
       " (u'withdrawal', 7.2680134465674291),\n",
       " (u'office', 7.2477397725897692),\n",
       " (u'2000in', 7.241580189499274),\n",
       " (u'urged', 7.1907217722657828),\n",
       " (u'delegates', 7.1344820539429072),\n",
       " (u'affordable', 7.1266999135008522),\n",
       " (u'hussein', 7.1189778674069419),\n",
       " (u'hillary', 6.9960797310837872),\n",
       " (u'californias', 6.9176081156422926),\n",
       " (u'treaty', 6.8927621170557618),\n",
       " (u'20', 6.883797061740589),\n",
       " (u'honolulu', 6.8745245295059805),\n",
       " (u'lengthy', 6.8566136029394507),\n",
       " (u'school', 6.6682401255045995),\n",
       " (u'house', 6.6507839152792867),\n",
       " (u'patient', 6.6346541843864575),\n",
       " (u'debt', 6.6112339101783588),\n",
       " (u'bin', 6.6112339101783588),\n",
       " (u'republicans', 6.5883496163447717),\n",
       " (u'lgbt', 6.5838349359902448),\n",
       " (u'regained', 6.5793405464024053),\n",
       " (u'ask', 6.5058733945205329),\n",
       " (u'organizer', 6.4975745917058374),\n",
       " (u'sandy', 6.489344092569322),\n",
       " (u'keynote', 6.4296842561629859),\n",
       " (u'american', 6.3820273379325636),\n",
       " (u'limit', 6.351722714693274),\n",
       " (u'equality', 6.3375380797013179),\n",
       " (u'gun', 6.2662005412551123),\n",
       " (u'63', 6.2181913220687521),\n",
       " (u'recovery', 6.1004082864123683),\n",
       " (u'nobel', 6.0730093122242543),\n",
       " (u'barack', 6.0649338982187082),\n",
       " (u'arms', 6.0280876248327422),\n",
       " (u'strike', 6.0229329742440774),\n",
       " (u'cuba', 6.0025760371753334),\n",
       " (u'seats', 5.9975509009726604),\n",
       " (u'sworn', 5.9582337976318254),\n",
       " (u'elementary', 5.9582337976318254),\n",
       " (u'13th', 5.9510308853377678),\n",
       " (u'november', 5.9451037198626722),\n",
       " (u'combat', 5.9297283046338993),\n",
       " (u'initiatives', 5.8929425478173885),\n",
       " (u'unsuccessfully', 5.8295333322769682),\n",
       " (u'hawaii', 5.804427411145892),\n",
       " (u'tell', 5.8023634269250408),\n",
       " (u'address', 5.8003036939620305),\n",
       " (u'islamic', 5.7839768006746013),\n",
       " (u'debate', 5.7819545552938338),\n",
       " (u'americans', 5.7599756485750584),\n",
       " (u'consumer', 5.752101592144153),\n",
       " (u'increased', 5.7481876928230164),\n",
       " (u'filed', 5.7061164789023291),\n",
       " (u'legislation', 5.6857265231992802),\n",
       " (u'shooting', 5.6802370309145083),\n",
       " (u'raise', 5.6729642715854283),\n",
       " (u'policies', 5.6585755341333295),\n",
       " (u'levels', 5.6461530141347716),\n",
       " (u'insurance', 5.5929215639118919),\n",
       " (u'ending', 5.5455657772296032),\n",
       " (u'tax', 5.5439721513943256),\n",
       " (u'clinton', 5.5407924984769457),\n",
       " (u'constitutional', 5.5281740345177344),\n",
       " (u'budget', 5.521924014172563),\n",
       " (u'receive', 5.446926362244854),\n",
       " (u'convention', 5.41562935552294),\n",
       " (u'operation', 5.3571490644250748),\n",
       " (u'second', 5.3447052344946879),\n",
       " (u'sought', 5.325937168022838),\n",
       " (u'defeating', 5.2845519518599842),\n",
       " (u'referred', 5.2543016113953174),\n",
       " (u'2010', 5.1857017775186058),\n",
       " (u'represent', 5.1830070602541864),\n",
       " (u'spending', 5.1752679392612304),\n",
       " (u'hold', 5.1438290356241021),\n",
       " (u'marriage', 5.114384216523538),\n",
       " (u'reform', 5.0918422784290422),\n",
       " (u'served', 5.072421219291944),\n",
       " (u'creation', 5.0347401534636127),\n",
       " (u'russia', 5.0242688535963174),\n",
       " (u'wall', 5.0204881307564113),\n",
       " (u'resulted', 5.0148437131367345),\n",
       " (u'care', 4.9157882106022477),\n",
       " (u'supreme', 4.913242600402814),\n",
       " (u'earning', 4.8564138077369456),\n",
       " (u'terms', 4.8233399270158817),\n",
       " (u'operations', 4.8110226042383015),\n",
       " (u'defense', 4.7935780966467245),\n",
       " (u'peace', 4.7920754667621894),\n",
       " (u'nomination', 4.7690688861659911),\n",
       " (u'process', 4.7444299586055623),\n",
       " (u'related', 4.7231827003856877),\n",
       " (u'reelected', 4.6819963714023682),\n",
       " (u'attorney', 4.6587317794408936),\n",
       " (u'african', 4.5816247422463992),\n",
       " (u'close', 4.5410947611608368),\n",
       " (u'representing', 4.5346900813345945),\n",
       " (u'promoted', 4.5185699855766721),\n",
       " (u'job', 4.4464219977171986),\n",
       " (u'relations', 4.4453598627262156),\n",
       " (u'attention', 4.4264318528406967),\n",
       " (u'defeated', 4.4063228999179831),\n",
       " (u'victory', 4.3841109821967059),\n",
       " (u'national', 4.3722201868194421),\n",
       " (u'nations', 4.361405169623624),\n",
       " (u'running', 4.3512084316031094),\n",
       " (u'ended', 4.3425503688599942),\n",
       " (u'civil', 4.3240445026622867),\n",
       " (u'1961', 4.3202903921997997),\n",
       " (u'ii', 4.3072608919094648),\n",
       " (u'administration', 4.2948554950519782),\n",
       " (u'start', 4.2807994939680967),\n",
       " (u'total', 4.2763071234299916),\n",
       " (u'economic', 4.27005151768617),\n",
       " (u'street', 4.2497686354090281),\n",
       " (u'form', 4.2333180479781829),\n",
       " (u'columbia', 4.2324596788267668),\n",
       " (u'review', 4.2273248793547289),\n",
       " (u'death', 4.1564842353286844),\n",
       " (u'federal', 4.0884726270979055),\n",
       " (u'rights', 4.0664291188092898),\n",
       " (u'months', 4.0423748267484108),\n",
       " (u'court', 3.8961100212692035),\n",
       " (u'taught', 3.8482396793323388),\n",
       " (u'current', 3.8305759798901304),\n",
       " (u'war', 3.8095584496367434),\n",
       " (u'district', 3.7742151796327557),\n",
       " (u'great', 3.767994740372933),\n",
       " (u'prize', 3.7450726280327937),\n",
       " (u'lost', 3.7314634151102291),\n",
       " (u'continued', 3.7203478812500319),\n",
       " (u'university', 3.694640863934656),\n",
       " (u'community', 3.6929628028021786),\n",
       " (u'graduate', 3.6748683693595452),\n",
       " (u'included', 3.4444314109385075),\n",
       " (u'1992', 3.2785334912402027),\n",
       " (u'general', 3.2205858041330804),\n",
       " (u'1996', 3.1357081221061058),\n",
       " (u'1997', 3.1297089611341464),\n",
       " (u'called', 3.0783587045410039),\n",
       " (u'major', 3.0580044935492308),\n",
       " (u'named', 3.0299035789685749),\n",
       " (u'degree', 3.0205391336521776),\n",
       " (u'august', 3.0000657785912552),\n",
       " (u'john', 2.9912233273032145),\n",
       " (u'march', 2.9573341749604491),\n",
       " (u'2013', 2.9544616415669251),\n",
       " (u'july', 2.9426988967816552),\n",
       " (u'2012', 2.7937251051339302),\n",
       " (u'began', 2.7273817817169093),\n",
       " (u'state', 2.7089806963460177),\n",
       " (u'worked', 2.5539087819994388),\n",
       " (u'received', 2.5395989742604708),\n",
       " (u'born', 2.5363821330197025),\n",
       " (u'2008', 2.5093560661159451),\n",
       " (u'2007', 2.4879899983929095),\n",
       " (u'won', 2.3835894636091908),\n",
       " (u'years', 2.0752550280620357),\n",
       " (u'new', 1.8872113016841423)]"
      ]
     },
     "execution_count": 138,
     "metadata": {},
     "output_type": "execute_result"
    }
   ],
   "source": [
    "cal_top_freq_features(each_person=obama)"
   ]
  },
  {
   "cell_type": "markdown",
   "metadata": {},
   "source": [
    "# Hand-on exercise 3\n",
    "### Exploring top TF-IDF for other people"
   ]
  },
  {
   "cell_type": "markdown",
   "metadata": {},
   "source": [
    "###  Elton John"
   ]
  },
  {
   "cell_type": "code",
   "execution_count": null,
   "metadata": {
    "collapsed": true
   },
   "outputs": [],
   "source": [
    "# Fill in here"
   ]
  },
  {
   "cell_type": "code",
   "execution_count": null,
   "metadata": {
    "collapsed": true
   },
   "outputs": [],
   "source": []
  },
  {
   "cell_type": "markdown",
   "metadata": {},
   "source": [
    "## Manually compute distances between a few people"
   ]
  },
  {
   "cell_type": "markdown",
   "metadata": {},
   "source": [
    "Let's manually compare the distances between the articles for a few famous people."
   ]
  },
  {
   "cell_type": "code",
   "execution_count": 48,
   "metadata": {
    "collapsed": true
   },
   "outputs": [],
   "source": [
    "from sklearn.metrics.pairwise import cosine_similarity  "
   ]
  },
  {
   "cell_type": "code",
   "execution_count": 49,
   "metadata": {
    "collapsed": false
   },
   "outputs": [
    {
     "name": "stdout",
     "output_type": "stream",
     "text": [
      "                                              URI          name  \\\n",
      "36452  <http://dbpedia.org/resource/Bill_Clinton>  Bill Clinton   \n",
      "\n",
      "                                                    text  \n",
      "36452  william jefferson bill clinton born william je...  \n"
     ]
    }
   ],
   "source": [
    "clinton = people[people['name'] == 'Bill Clinton']\n",
    "print clinton"
   ]
  },
  {
   "cell_type": "code",
   "execution_count": 50,
   "metadata": {
    "collapsed": false
   },
   "outputs": [
    {
     "name": "stdout",
     "output_type": "stream",
     "text": [
      "                                               URI           name  \\\n",
      "23386  <http://dbpedia.org/resource/David_Beckham>  David Beckham   \n",
      "\n",
      "                                                    text  \n",
      "23386  david robert joseph beckham obe bkm born 2 may...  \n"
     ]
    }
   ],
   "source": [
    "beckham = people[people['name'] == 'David Beckham']\n",
    "print beckham"
   ]
  },
  {
   "cell_type": "markdown",
   "metadata": {},
   "source": [
    "# Is Obama closer to Clinton than to Beckham?"
   ]
  },
  {
   "cell_type": "markdown",
   "metadata": {},
   "source": [
    "We will use cosine distance, which is given by\n",
    "(1-cosine_similarity)\n",
    "and find that the article about president Obama is closer to the one about former president Clinton than that of footballer David Beckham."
   ]
  },
  {
   "cell_type": "code",
   "execution_count": 51,
   "metadata": {
    "collapsed": false
   },
   "outputs": [
    {
     "data": {
      "text/plain": [
       "Int64Index([23386], dtype='int64')"
      ]
     },
     "execution_count": 51,
     "metadata": {},
     "output_type": "execute_result"
    }
   ],
   "source": [
    "beckham.index"
   ]
  },
  {
   "cell_type": "code",
   "execution_count": 61,
   "metadata": {
    "collapsed": false
   },
   "outputs": [
    {
     "data": {
      "text/plain": [
       "array([[ 0.81103282]])"
      ]
     },
     "execution_count": 61,
     "metadata": {},
     "output_type": "execute_result"
    }
   ],
   "source": [
    "1-cosine_similarity(people_tfidf[obama.index], people_tfidf[clinton.index])"
   ]
  },
  {
   "cell_type": "code",
   "execution_count": 62,
   "metadata": {
    "collapsed": false
   },
   "outputs": [
    {
     "data": {
      "text/plain": [
       "array([[ 0.97443419]])"
      ]
     },
     "execution_count": 62,
     "metadata": {},
     "output_type": "execute_result"
    }
   ],
   "source": [
    "1-cosine_similarity(people_tfidf[obama.index], people_tfidf[beckham.index])"
   ]
  },
  {
   "cell_type": "markdown",
   "metadata": {},
   "source": [
    "# Hand-on exercise 4\n",
    "###  Calculate distance between Elton John and Victoria Beckham using TF-IDF"
   ]
  },
  {
   "cell_type": "code",
   "execution_count": null,
   "metadata": {
    "collapsed": true
   },
   "outputs": [],
   "source": [
    "# Fill in here"
   ]
  },
  {
   "cell_type": "markdown",
   "metadata": {},
   "source": [
    "###  Calculate distance between Elton John and Paul McCartney using TF-IDF"
   ]
  },
  {
   "cell_type": "code",
   "execution_count": null,
   "metadata": {
    "collapsed": true
   },
   "outputs": [],
   "source": [
    "# Fill in here"
   ]
  },
  {
   "cell_type": "markdown",
   "metadata": {},
   "source": [
    "### Who is closer to Elton John? Victoria Beckham or Paul McCartney"
   ]
  },
  {
   "cell_type": "markdown",
   "metadata": {},
   "source": [
    "Answer:"
   ]
  },
  {
   "cell_type": "markdown",
   "metadata": {},
   "source": [
    "# Build a nearest neighbor model for document retrieval"
   ]
  },
  {
   "cell_type": "markdown",
   "metadata": {},
   "source": [
    "We now create a nearest-neighbors model and apply it to document retrieval.  "
   ]
  },
  {
   "cell_type": "code",
   "execution_count": 30,
   "metadata": {
    "collapsed": false
   },
   "outputs": [],
   "source": [
    "from sklearn.neighbors import NearestNeighbors"
   ]
  },
  {
   "cell_type": "code",
   "execution_count": 146,
   "metadata": {
    "collapsed": false
   },
   "outputs": [],
   "source": [
    "nbrs = NearestNeighbors(n_neighbors=5, algorithm='brute', metric=cosine_similarity)"
   ]
  },
  {
   "cell_type": "code",
   "execution_count": 153,
   "metadata": {
    "collapsed": false
   },
   "outputs": [
    {
     "ename": "MemoryError",
     "evalue": "",
     "output_type": "error",
     "traceback": [
      "\u001b[1;31m---------------------------------------------------------------------------\u001b[0m",
      "\u001b[1;31mMemoryError\u001b[0m                               Traceback (most recent call last)",
      "\u001b[1;32m<ipython-input-153-7248c329ac3c>\u001b[0m in \u001b[0;36m<module>\u001b[1;34m()\u001b[0m\n\u001b[1;32m----> 1\u001b[1;33m \u001b[0mnbrs\u001b[0m\u001b[1;33m.\u001b[0m\u001b[0mfit\u001b[0m\u001b[1;33m(\u001b[0m\u001b[0mpeople_tfidf\u001b[0m\u001b[1;33m.\u001b[0m\u001b[0mtoarray\u001b[0m\u001b[1;33m(\u001b[0m\u001b[1;33m)\u001b[0m\u001b[1;33m.\u001b[0m\u001b[0mreshape\u001b[0m\u001b[1;33m(\u001b[0m\u001b[1;36m1\u001b[0m\u001b[1;33m,\u001b[0m\u001b[1;33m-\u001b[0m\u001b[1;36m1\u001b[0m\u001b[1;33m)\u001b[0m\u001b[1;33m)\u001b[0m\u001b[1;33m\u001b[0m\u001b[0m\n\u001b[0m",
      "\u001b[1;32m/home/youri/anaconda2/lib/python2.7/site-packages/scipy/sparse/compressed.pyc\u001b[0m in \u001b[0;36mtoarray\u001b[1;34m(self, order, out)\u001b[0m\n\u001b[0;32m    938\u001b[0m     \u001b[1;32mdef\u001b[0m \u001b[0mtoarray\u001b[0m\u001b[1;33m(\u001b[0m\u001b[0mself\u001b[0m\u001b[1;33m,\u001b[0m \u001b[0morder\u001b[0m\u001b[1;33m=\u001b[0m\u001b[0mNone\u001b[0m\u001b[1;33m,\u001b[0m \u001b[0mout\u001b[0m\u001b[1;33m=\u001b[0m\u001b[0mNone\u001b[0m\u001b[1;33m)\u001b[0m\u001b[1;33m:\u001b[0m\u001b[1;33m\u001b[0m\u001b[0m\n\u001b[0;32m    939\u001b[0m         \u001b[1;34m\"\"\"See the docstring for `spmatrix.toarray`.\"\"\"\u001b[0m\u001b[1;33m\u001b[0m\u001b[0m\n\u001b[1;32m--> 940\u001b[1;33m         \u001b[1;32mreturn\u001b[0m \u001b[0mself\u001b[0m\u001b[1;33m.\u001b[0m\u001b[0mtocoo\u001b[0m\u001b[1;33m(\u001b[0m\u001b[0mcopy\u001b[0m\u001b[1;33m=\u001b[0m\u001b[0mFalse\u001b[0m\u001b[1;33m)\u001b[0m\u001b[1;33m.\u001b[0m\u001b[0mtoarray\u001b[0m\u001b[1;33m(\u001b[0m\u001b[0morder\u001b[0m\u001b[1;33m=\u001b[0m\u001b[0morder\u001b[0m\u001b[1;33m,\u001b[0m \u001b[0mout\u001b[0m\u001b[1;33m=\u001b[0m\u001b[0mout\u001b[0m\u001b[1;33m)\u001b[0m\u001b[1;33m\u001b[0m\u001b[0m\n\u001b[0m\u001b[0;32m    941\u001b[0m \u001b[1;33m\u001b[0m\u001b[0m\n\u001b[0;32m    942\u001b[0m     \u001b[1;31m##############################################################\u001b[0m\u001b[1;33m\u001b[0m\u001b[1;33m\u001b[0m\u001b[0m\n",
      "\u001b[1;32m/home/youri/anaconda2/lib/python2.7/site-packages/scipy/sparse/coo.pyc\u001b[0m in \u001b[0;36mtoarray\u001b[1;34m(self, order, out)\u001b[0m\n\u001b[0;32m    248\u001b[0m     \u001b[1;32mdef\u001b[0m \u001b[0mtoarray\u001b[0m\u001b[1;33m(\u001b[0m\u001b[0mself\u001b[0m\u001b[1;33m,\u001b[0m \u001b[0morder\u001b[0m\u001b[1;33m=\u001b[0m\u001b[0mNone\u001b[0m\u001b[1;33m,\u001b[0m \u001b[0mout\u001b[0m\u001b[1;33m=\u001b[0m\u001b[0mNone\u001b[0m\u001b[1;33m)\u001b[0m\u001b[1;33m:\u001b[0m\u001b[1;33m\u001b[0m\u001b[0m\n\u001b[0;32m    249\u001b[0m         \u001b[1;34m\"\"\"See the docstring for `spmatrix.toarray`.\"\"\"\u001b[0m\u001b[1;33m\u001b[0m\u001b[0m\n\u001b[1;32m--> 250\u001b[1;33m         \u001b[0mB\u001b[0m \u001b[1;33m=\u001b[0m \u001b[0mself\u001b[0m\u001b[1;33m.\u001b[0m\u001b[0m_process_toarray_args\u001b[0m\u001b[1;33m(\u001b[0m\u001b[0morder\u001b[0m\u001b[1;33m,\u001b[0m \u001b[0mout\u001b[0m\u001b[1;33m)\u001b[0m\u001b[1;33m\u001b[0m\u001b[0m\n\u001b[0m\u001b[0;32m    251\u001b[0m         \u001b[0mfortran\u001b[0m \u001b[1;33m=\u001b[0m \u001b[0mint\u001b[0m\u001b[1;33m(\u001b[0m\u001b[0mB\u001b[0m\u001b[1;33m.\u001b[0m\u001b[0mflags\u001b[0m\u001b[1;33m.\u001b[0m\u001b[0mf_contiguous\u001b[0m\u001b[1;33m)\u001b[0m\u001b[1;33m\u001b[0m\u001b[0m\n\u001b[0;32m    252\u001b[0m         \u001b[1;32mif\u001b[0m \u001b[1;32mnot\u001b[0m \u001b[0mfortran\u001b[0m \u001b[1;32mand\u001b[0m \u001b[1;32mnot\u001b[0m \u001b[0mB\u001b[0m\u001b[1;33m.\u001b[0m\u001b[0mflags\u001b[0m\u001b[1;33m.\u001b[0m\u001b[0mc_contiguous\u001b[0m\u001b[1;33m:\u001b[0m\u001b[1;33m\u001b[0m\u001b[0m\n",
      "\u001b[1;32m/home/youri/anaconda2/lib/python2.7/site-packages/scipy/sparse/base.pyc\u001b[0m in \u001b[0;36m_process_toarray_args\u001b[1;34m(self, order, out)\u001b[0m\n\u001b[0;32m    815\u001b[0m             \u001b[1;32mreturn\u001b[0m \u001b[0mout\u001b[0m\u001b[1;33m\u001b[0m\u001b[0m\n\u001b[0;32m    816\u001b[0m         \u001b[1;32melse\u001b[0m\u001b[1;33m:\u001b[0m\u001b[1;33m\u001b[0m\u001b[0m\n\u001b[1;32m--> 817\u001b[1;33m             \u001b[1;32mreturn\u001b[0m \u001b[0mnp\u001b[0m\u001b[1;33m.\u001b[0m\u001b[0mzeros\u001b[0m\u001b[1;33m(\u001b[0m\u001b[0mself\u001b[0m\u001b[1;33m.\u001b[0m\u001b[0mshape\u001b[0m\u001b[1;33m,\u001b[0m \u001b[0mdtype\u001b[0m\u001b[1;33m=\u001b[0m\u001b[0mself\u001b[0m\u001b[1;33m.\u001b[0m\u001b[0mdtype\u001b[0m\u001b[1;33m,\u001b[0m \u001b[0morder\u001b[0m\u001b[1;33m=\u001b[0m\u001b[0morder\u001b[0m\u001b[1;33m)\u001b[0m\u001b[1;33m\u001b[0m\u001b[0m\n\u001b[0m\u001b[0;32m    818\u001b[0m \u001b[1;33m\u001b[0m\u001b[0m\n\u001b[0;32m    819\u001b[0m     \u001b[1;32mdef\u001b[0m \u001b[0m__numpy_ufunc__\u001b[0m\u001b[1;33m(\u001b[0m\u001b[0mself\u001b[0m\u001b[1;33m,\u001b[0m \u001b[0mfunc\u001b[0m\u001b[1;33m,\u001b[0m \u001b[0mmethod\u001b[0m\u001b[1;33m,\u001b[0m \u001b[0mpos\u001b[0m\u001b[1;33m,\u001b[0m \u001b[0minputs\u001b[0m\u001b[1;33m,\u001b[0m \u001b[1;33m**\u001b[0m\u001b[0mkwargs\u001b[0m\u001b[1;33m)\u001b[0m\u001b[1;33m:\u001b[0m\u001b[1;33m\u001b[0m\u001b[0m\n",
      "\u001b[1;31mMemoryError\u001b[0m: "
     ]
    }
   ],
   "source": [
    "nbrs.fit(people_tfidf.toarray().reshape(1,-1))"
   ]
  },
  {
   "cell_type": "code",
   "execution_count": null,
   "metadata": {
    "collapsed": true
   },
   "outputs": [],
   "source": [
    "### Need to find a way to query "
   ]
  },
  {
   "cell_type": "markdown",
   "metadata": {
    "collapsed": true
   },
   "source": [
    "# Applying the nearest-neighbors model for retrieval"
   ]
  },
  {
   "cell_type": "markdown",
   "metadata": {},
   "source": [
    "## Who is closest to Obama?"
   ]
  },
  {
   "cell_type": "code",
   "execution_count": null,
   "metadata": {
    "collapsed": true
   },
   "outputs": [],
   "source": [
    "# knn_model.query(obama)"
   ]
  },
  {
   "cell_type": "markdown",
   "metadata": {},
   "source": [
    "As we can see, president Obama's article is closest to the one about his vice-president Biden, and those of other politicians."
   ]
  },
  {
   "cell_type": "markdown",
   "metadata": {},
   "source": [
    "# Other examples of document retrieval"
   ]
  },
  {
   "cell_type": "code",
   "execution_count": null,
   "metadata": {
    "collapsed": true
   },
   "outputs": [],
   "source": [
    "swift = people[people['name'] == 'Taylor Swift']"
   ]
  },
  {
   "cell_type": "code",
   "execution_count": null,
   "metadata": {
    "collapsed": true
   },
   "outputs": [],
   "source": [
    "# knn_model.query(swift)"
   ]
  },
  {
   "cell_type": "code",
   "execution_count": null,
   "metadata": {
    "collapsed": true
   },
   "outputs": [],
   "source": [
    "jolie = people[people['name'] == 'Angelina Jolie']"
   ]
  },
  {
   "cell_type": "code",
   "execution_count": null,
   "metadata": {
    "collapsed": true
   },
   "outputs": [],
   "source": [
    "# knn_model.query(jolie)"
   ]
  },
  {
   "cell_type": "code",
   "execution_count": null,
   "metadata": {
    "collapsed": true
   },
   "outputs": [],
   "source": [
    "arnold = people[people['name'] == 'Arnold Schwarzenegger']"
   ]
  },
  {
   "cell_type": "code",
   "execution_count": null,
   "metadata": {
    "collapsed": true
   },
   "outputs": [],
   "source": [
    "# knn_model.query(arnold)"
   ]
  },
  {
   "cell_type": "markdown",
   "metadata": {},
   "source": [
    "# Hand-on exercise 5\n",
    "##  Building Nearest Neighbor using word count "
   ]
  },
  {
   "cell_type": "markdown",
   "metadata": {},
   "source": [
    "###  Elton John "
   ]
  },
  {
   "cell_type": "code",
   "execution_count": null,
   "metadata": {
    "collapsed": true
   },
   "outputs": [],
   "source": [
    "# "
   ]
  },
  {
   "cell_type": "markdown",
   "metadata": {},
   "source": [
    "### Victoria Beckham"
   ]
  },
  {
   "cell_type": "markdown",
   "metadata": {},
   "source": [
    "# Hand-on exercise 6\n",
    "## Building Nearest Neighbor using TF-IDF"
   ]
  },
  {
   "cell_type": "markdown",
   "metadata": {},
   "source": [
    "###  Elton John "
   ]
  },
  {
   "cell_type": "code",
   "execution_count": null,
   "metadata": {
    "collapsed": true
   },
   "outputs": [],
   "source": [
    "#"
   ]
  },
  {
   "cell_type": "markdown",
   "metadata": {},
   "source": [
    "### Victoria Beckham"
   ]
  },
  {
   "cell_type": "code",
   "execution_count": null,
   "metadata": {
    "collapsed": true
   },
   "outputs": [],
   "source": [
    "#"
   ]
  }
 ],
 "metadata": {
  "kernelspec": {
   "display_name": "Python [Root]",
   "language": "python",
   "name": "Python [Root]"
  },
  "language_info": {
   "codemirror_mode": {
    "name": "ipython",
    "version": 2
   },
   "file_extension": ".py",
   "mimetype": "text/x-python",
   "name": "python",
   "nbconvert_exporter": "python",
   "pygments_lexer": "ipython2",
   "version": "2.7.11"
  }
 },
 "nbformat": 4,
 "nbformat_minor": 0
}
